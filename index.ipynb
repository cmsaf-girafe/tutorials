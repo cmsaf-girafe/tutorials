{
 "cells": [
  {
   "cell_type": "markdown",
   "id": "5423dcf1-b7a4-41c0-a9dd-3aabef1df07b",
   "metadata": {},
   "source": [
    "# GIRAFE Tutorials\n",
    "\n",
    "A collection of Python tutorials for working with the GIRAFE dataset.\n",
    "\n",
    "- [Quickstart](quickstart.ipynb)"
   ]
  }
 ],
 "metadata": {
  "kernelspec": {
   "display_name": "girafe",
   "language": "python",
   "name": "girafe"
  },
  "language_info": {
   "codemirror_mode": {
    "name": "ipython",
    "version": 3
   },
   "file_extension": ".py",
   "mimetype": "text/x-python",
   "name": "python",
   "nbconvert_exporter": "python",
   "pygments_lexer": "ipython3",
   "version": "3.10.12"
  }
 },
 "nbformat": 4,
 "nbformat_minor": 5
}
